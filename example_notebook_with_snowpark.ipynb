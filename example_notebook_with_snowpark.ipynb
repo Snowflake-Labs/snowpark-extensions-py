{
 "cells": [
  {
   "cell_type": "code",
   "execution_count": 1,
   "metadata": {},
   "outputs": [],
   "source": [
    "%pip install snowpark_extensions"
   ]
  },
  {
   "cell_type": "code",
   "execution_count": 2,
   "metadata": {},
   "outputs": [],
   "source": [
    "%load_ext snowpark_extensions"
   ]
  },
  {
   "cell_type": "code",
   "execution_count": 3,
   "metadata": {},
   "outputs": [],
   "source": [
    "from snowflake.snowpark import Session\n",
    "import snowpark_extensions\n",
    "# will try to setup credential from the snowsql CLI if present of from SNOW_xxx or SNOWSQL_xxx variables\n",
    "# if not configuration can be retrieve you will receive an error\n",
    "session = Session.builder.from_snowsql().from_env().getOrCreate()"
   ]
  },
  {
   "cell_type": "code",
   "execution_count": 4,
   "metadata": {},
   "outputs": [
    {
     "name": "stderr",
     "output_type": "stream",
     "text": [
      "Failed to execute query [queryID: 01a9f02a-0405-90fd-0000-1c5502a00ac6]  SELECT count(1) AS \"COUNT(LITERAL())\" FROM (select asdfad) LIMIT 1\n",
      "000904 (42000): SQL compilation error: error line 1 at position 51\n",
      "invalid identifier 'ASDFAD'\n"
     ]
    },
    {
     "data": {
      "text/html": [
       "<div style=\"background-color: #f44336; color: white; padding: 16px;\"><strong>Error:</strong> <span id=\"error-message\">000904 (42000): SQL compilation error: error line 1 at position 51\n",
       "invalid identifier 'ASDFAD'</span></div>"
      ],
      "text/plain": [
       "<snowflake.snowpark.dataframe.DataFrame at 0x7fadfc77a700>"
      ]
     },
     "execution_count": 4,
     "metadata": {},
     "output_type": "execute_result"
    }
   ],
   "source": [
    "%%sql\n",
    "select asdfad"
   ]
  },
  {
   "cell_type": "code",
   "execution_count": 5,
   "metadata": {},
   "outputs": [],
   "source": [
    "%%sql tables\n",
    "select 'a1' A, 'b1' B union\n",
    "select 'a2'  , 'b2'"
   ]
  },
  {
   "cell_type": "code",
   "execution_count": 6,
   "metadata": {},
   "outputs": [],
   "source": [
    "if tables.count() > 100:\n",
    "    print(\"There are many tables here\")"
   ]
  },
  {
   "cell_type": "code",
   "execution_count": 9,
   "metadata": {},
   "outputs": [
    {
     "data": {
      "text/html": [
       "<table border=\"1\" class=\"dataframe\">\n",
       "  <thead>\n",
       "    <tr style=\"text-align: right;\">\n",
       "      <th></th>\n",
       "      <th>A</th>\n",
       "      <th>B</th>\n",
       "    </tr>\n",
       "  </thead>\n",
       "  <tbody>\n",
       "    <tr>\n",
       "      <th>0</th>\n",
       "      <td>a1</td>\n",
       "      <td>b1</td>\n",
       "    </tr>\n",
       "    <tr>\n",
       "      <th>1</th>\n",
       "      <td>a2</td>\n",
       "      <td>b2</td>\n",
       "    </tr>\n",
       "  </tbody>\n",
       "</table>"
      ],
      "text/plain": [
       "<snowflake.snowpark.dataframe.DataFrame at 0x7fadfc77afa0>"
      ]
     },
     "metadata": {},
     "output_type": "display_data"
    }
   ],
   "source": [
    "display(tables)"
   ]
  },
  {
   "cell_type": "code",
   "execution_count": 10,
   "metadata": {},
   "outputs": [
    {
     "data": {
      "text/html": [
       "<table border=\"1\" class=\"dataframe\">\n",
       "  <thead>\n",
       "    <tr style=\"text-align: right;\">\n",
       "      <th></th>\n",
       "      <th>A</th>\n",
       "      <th>B</th>\n",
       "    </tr>\n",
       "  </thead>\n",
       "  <tbody>\n",
       "    <tr>\n",
       "      <th>0</th>\n",
       "      <td>a1</td>\n",
       "      <td>b1</td>\n",
       "    </tr>\n",
       "    <tr>\n",
       "      <th>1</th>\n",
       "      <td>a2</td>\n",
       "      <td>b2</td>\n",
       "    </tr>\n",
       "  </tbody>\n",
       "</table>"
      ],
      "text/plain": [
       "<snowflake.snowpark.dataframe.DataFrame at 0x7fadfc77afa0>"
      ]
     },
     "metadata": {},
     "output_type": "display_data"
    }
   ],
   "source": [
    "display(tables)"
   ]
  },
  {
   "cell_type": "code",
   "execution_count": 11,
   "metadata": {},
   "outputs": [
    {
     "data": {
      "text/plain": [
       "50"
      ]
     },
     "metadata": {},
     "output_type": "display_data"
    }
   ],
   "source": [
    "import snowpark_extensions\n",
    "display(snowpark_extensions.rows_limit)"
   ]
  },
  {
   "cell_type": "code",
   "execution_count": null,
   "metadata": {},
   "outputs": [],
   "source": [
    "snowpark_extensions.rows_limit = 5"
   ]
  },
  {
   "cell_type": "code",
   "execution_count": null,
   "metadata": {},
   "outputs": [
    {
     "name": "stdout",
     "output_type": "stream",
     "text": [
      "There are 1361 rows. Showing only 5 \n"
     ]
    },
    {
     "data": {
      "text/html": [
       "<table border=\"1\" class=\"dataframe\">\n",
       "  <thead>\n",
       "    <tr style=\"text-align: right;\">\n",
       "      <th></th>\n",
       "      <th>TABLE_CATALOG</th>\n",
       "      <th>TABLE_SCHEMA</th>\n",
       "      <th>TABLE_NAME</th>\n",
       "      <th>TABLE_OWNER</th>\n",
       "      <th>TABLE_TYPE</th>\n",
       "      <th>IS_TRANSIENT</th>\n",
       "      <th>CLUSTERING_KEY</th>\n",
       "      <th>ROW_COUNT</th>\n",
       "      <th>BYTES</th>\n",
       "      <th>RETENTION_TIME</th>\n",
       "      <th>SELF_REFERENCING_COLUMN_NAME</th>\n",
       "      <th>REFERENCE_GENERATION</th>\n",
       "      <th>USER_DEFINED_TYPE_CATALOG</th>\n",
       "      <th>USER_DEFINED_TYPE_SCHEMA</th>\n",
       "      <th>USER_DEFINED_TYPE_NAME</th>\n",
       "      <th>IS_INSERTABLE_INTO</th>\n",
       "      <th>IS_TYPED</th>\n",
       "      <th>COMMIT_ACTION</th>\n",
       "      <th>CREATED</th>\n",
       "      <th>LAST_ALTERED</th>\n",
       "      <th>AUTO_CLUSTERING_ON</th>\n",
       "      <th>COMMENT</th>\n",
       "    </tr>\n",
       "  </thead>\n",
       "  <tbody>\n",
       "    <tr>\n",
       "      <th>0</th>\n",
       "      <td>DEMODB</td>\n",
       "      <td>AUDIT_STAGE</td>\n",
       "      <td>T_AUDIT_ACCESS_DATASET_FACT</td>\n",
       "      <td>ACCOUNTADMIN</td>\n",
       "      <td>BASE TABLE</td>\n",
       "      <td>NO</td>\n",
       "      <td>None</td>\n",
       "      <td>0.0</td>\n",
       "      <td>0.0</td>\n",
       "      <td>1.0</td>\n",
       "      <td>None</td>\n",
       "      <td>None</td>\n",
       "      <td>None</td>\n",
       "      <td>None</td>\n",
       "      <td>None</td>\n",
       "      <td>YES</td>\n",
       "      <td>YES</td>\n",
       "      <td>None</td>\n",
       "      <td>2022-09-29 07:09:39.907000-07:00</td>\n",
       "      <td>2022-09-29 07:09:40.017000-07:00</td>\n",
       "      <td>NO</td>\n",
       "      <td>None</td>\n",
       "    </tr>\n",
       "    <tr>\n",
       "      <th>1</th>\n",
       "      <td>DEMODB</td>\n",
       "      <td>CJC</td>\n",
       "      <td>V_WORKFORCE_INIT_ALL_JOB_RUNS</td>\n",
       "      <td>ACCOUNTADMIN</td>\n",
       "      <td>VIEW</td>\n",
       "      <td>None</td>\n",
       "      <td>None</td>\n",
       "      <td>NaN</td>\n",
       "      <td>NaN</td>\n",
       "      <td>NaN</td>\n",
       "      <td>None</td>\n",
       "      <td>None</td>\n",
       "      <td>None</td>\n",
       "      <td>None</td>\n",
       "      <td>None</td>\n",
       "      <td>YES</td>\n",
       "      <td>YES</td>\n",
       "      <td>None</td>\n",
       "      <td>2022-09-29 07:10:54.934000-07:00</td>\n",
       "      <td>2022-09-29 07:10:55.665000-07:00</td>\n",
       "      <td>NO</td>\n",
       "      <td>None</td>\n",
       "    </tr>\n",
       "    <tr>\n",
       "      <th>2</th>\n",
       "      <td>DEMODB</td>\n",
       "      <td>BIAUDIT_STAGE</td>\n",
       "      <td>T_BI4_ADS_SERVER_TYPE_STR</td>\n",
       "      <td>ACCOUNTADMIN</td>\n",
       "      <td>BASE TABLE</td>\n",
       "      <td>NO</td>\n",
       "      <td>None</td>\n",
       "      <td>0.0</td>\n",
       "      <td>0.0</td>\n",
       "      <td>1.0</td>\n",
       "      <td>None</td>\n",
       "      <td>None</td>\n",
       "      <td>None</td>\n",
       "      <td>None</td>\n",
       "      <td>None</td>\n",
       "      <td>YES</td>\n",
       "      <td>YES</td>\n",
       "      <td>None</td>\n",
       "      <td>2022-09-29 07:09:32.081000-07:00</td>\n",
       "      <td>2022-09-29 07:09:32.441000-07:00</td>\n",
       "      <td>NO</td>\n",
       "      <td>Source server type str data</td>\n",
       "    </tr>\n",
       "    <tr>\n",
       "      <th>3</th>\n",
       "      <td>DEMODB</td>\n",
       "      <td>DIM</td>\n",
       "      <td>L_MCN_SCORE</td>\n",
       "      <td>ACCOUNTADMIN</td>\n",
       "      <td>BASE TABLE</td>\n",
       "      <td>NO</td>\n",
       "      <td>None</td>\n",
       "      <td>0.0</td>\n",
       "      <td>0.0</td>\n",
       "      <td>1.0</td>\n",
       "      <td>None</td>\n",
       "      <td>None</td>\n",
       "      <td>None</td>\n",
       "      <td>None</td>\n",
       "      <td>None</td>\n",
       "      <td>YES</td>\n",
       "      <td>YES</td>\n",
       "      <td>None</td>\n",
       "      <td>2022-09-29 07:09:56.537000-07:00</td>\n",
       "      <td>2022-09-29 07:09:57.953000-07:00</td>\n",
       "      <td>NO</td>\n",
       "      <td>Holds MCN score information sourced from NMCN CLEFT system</td>\n",
       "    </tr>\n",
       "    <tr>\n",
       "      <th>4</th>\n",
       "      <td>DEMODB</td>\n",
       "      <td>DIM</td>\n",
       "      <td>L_BLOOD_RETURN_REASON</td>\n",
       "      <td>ACCOUNTADMIN</td>\n",
       "      <td>BASE TABLE</td>\n",
       "      <td>NO</td>\n",
       "      <td>None</td>\n",
       "      <td>0.0</td>\n",
       "      <td>0.0</td>\n",
       "      <td>1.0</td>\n",
       "      <td>None</td>\n",
       "      <td>None</td>\n",
       "      <td>None</td>\n",
       "      <td>None</td>\n",
       "      <td>None</td>\n",
       "      <td>YES</td>\n",
       "      <td>YES</td>\n",
       "      <td>None</td>\n",
       "      <td>2022-09-29 07:10:40.229000-07:00</td>\n",
       "      <td>2022-09-29 07:10:41.441000-07:00</td>\n",
       "      <td>NO</td>\n",
       "      <td>Reason for returning a previously issued blood donation product eg. Recalled by QA</td>\n",
       "    </tr>\n",
       "  </tbody>\n",
       "</table>"
      ],
      "text/plain": [
       "<snowflake.snowpark.dataframe.DataFrame at 0x7fa25b41e9d0>"
      ]
     },
     "execution_count": 13,
     "metadata": {},
     "output_type": "execute_result"
    }
   ],
   "source": [
    "%%sql\n",
    "select * from information_schema.tables"
   ]
  }
 ],
 "metadata": {
  "kernelspec": {
   "display_name": "Python 3",
   "language": "python",
   "name": "python3"
  },
  "language_info": {
   "codemirror_mode": {
    "name": "ipython",
    "version": 3
   },
   "file_extension": ".py",
   "mimetype": "text/x-python",
   "name": "python",
   "nbconvert_exporter": "python",
   "pygments_lexer": "ipython3",
   "version": "3.8.16"
  },
  "orig_nbformat": 4,
  "vscode": {
   "interpreter": {
    "hash": "9ac03a0a6051494cc606d484d27d20fce22fb7b4d169f583271e11d5ba46a56e"
   }
  }
 },
 "nbformat": 4,
 "nbformat_minor": 2
}
